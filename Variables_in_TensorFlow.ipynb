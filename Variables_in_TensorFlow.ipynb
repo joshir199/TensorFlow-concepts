{
  "nbformat": 4,
  "nbformat_minor": 0,
  "metadata": {
    "colab": {
      "provenance": []
    },
    "kernelspec": {
      "name": "python3",
      "display_name": "Python 3"
    },
    "language_info": {
      "name": "python"
    }
  },
  "cells": [
    {
      "cell_type": "code",
      "source": [
        "# Variables"
      ],
      "metadata": {
        "id": "8oi4wDCMFzAF"
      },
      "execution_count": null,
      "outputs": []
    },
    {
      "cell_type": "code",
      "execution_count": null,
      "metadata": {
        "colab": {
          "base_uri": "https://localhost:8080/",
          "height": 35
        },
        "id": "C5gbUce8FuZy",
        "outputId": "e737f073-5eca-4676-9934-e3c14158055a"
      },
      "outputs": [
        {
          "output_type": "execute_result",
          "data": {
            "text/plain": [
              "'2.12.0'"
            ],
            "application/vnd.google.colaboratory.intrinsic+json": {
              "type": "string"
            }
          },
          "metadata": {},
          "execution_count": 2
        }
      ],
      "source": [
        "import tensorflow as tf\n",
        "import numpy as np\n",
        "tf.version.VERSION"
      ]
    },
    {
      "cell_type": "code",
      "source": [
        "# To see where your variables get placed\n",
        " # tf.debugging.set_log_device_placement(True)"
      ],
      "metadata": {
        "id": "EEMZBpUVZkDw"
      },
      "execution_count": null,
      "outputs": []
    },
    {
      "cell_type": "code",
      "source": [
        "# Tensorflow Variables\n",
        "# A tf.Variable represents a tensor whose value can be changed by running ops on it. (mutable)\n",
        "# It is the recommended way to represent shared, persistent state your program manipulates.\n",
        "# Note: Higher level libraries like tf.keras use tf.Variable to store model parameters."
      ],
      "metadata": {
        "id": "bfWBMqQ5WGG3"
      },
      "execution_count": 3,
      "outputs": []
    },
    {
      "cell_type": "code",
      "source": [
        "# Create a Variable:\n",
        "tensor = tf.constant([[1.0, 2.0], [3.0, 4.0]])\n",
        "variable = tf.Variable(tensor)\n",
        "variable"
      ],
      "metadata": {
        "id": "MwMxJs4gWF9q",
        "colab": {
          "base_uri": "https://localhost:8080/"
        },
        "outputId": "00e5d10c-4bb0-4321-b522-63993769b5a0"
      },
      "execution_count": 6,
      "outputs": [
        {
          "output_type": "stream",
          "name": "stdout",
          "text": [
            "Executing op _EagerConst in device /job:localhost/replica:0/task:0/device:CPU:0\n",
            "Executing op VarHandleOp in device /job:localhost/replica:0/task:0/device:CPU:0\n",
            "Executing op AssignVariableOp in device /job:localhost/replica:0/task:0/device:CPU:0\n",
            "Executing op ReadVariableOp in device /job:localhost/replica:0/task:0/device:CPU:0\n",
            "Executing op Identity in device /job:localhost/replica:0/task:0/device:CPU:0\n"
          ]
        },
        {
          "output_type": "execute_result",
          "data": {
            "text/plain": [
              "<tf.Variable 'Variable:0' shape=(2, 2) dtype=float32, numpy=\n",
              "array([[1., 2.],\n",
              "       [3., 4.]], dtype=float32)>"
            ]
          },
          "metadata": {},
          "execution_count": 6
        }
      ]
    },
    {
      "cell_type": "code",
      "source": [
        "# Variables can be all kinds of types, just like tensors\n",
        "# New values can be assigned to variables. Calling assign does not (usually) allocate\n",
        "# a new tensor; instead, the existing tensor's memory is reused.\n",
        "variable.assign([[9., 8.],[6.,3.]]) # same shape values can replace\n",
        "variable  # here no new memory is created"
      ],
      "metadata": {
        "colab": {
          "base_uri": "https://localhost:8080/"
        },
        "id": "AAgyK0FwZr6O",
        "outputId": "ad31d7c0-e45d-4aa7-d12e-e58839b46af8"
      },
      "execution_count": 10,
      "outputs": [
        {
          "output_type": "stream",
          "name": "stdout",
          "text": [
            "Executing op _EagerConst in device /job:localhost/replica:0/task:0/device:CPU:0\n",
            "Executing op AssignVariableOp in device /job:localhost/replica:0/task:0/device:CPU:0\n",
            "Executing op ReadVariableOp in device /job:localhost/replica:0/task:0/device:CPU:0\n",
            "Executing op Identity in device /job:localhost/replica:0/task:0/device:CPU:0\n"
          ]
        },
        {
          "output_type": "execute_result",
          "data": {
            "text/plain": [
              "<tf.Variable 'Variable:0' shape=(2, 2) dtype=float32, numpy=\n",
              "array([[9., 8.],\n",
              "       [6., 3.]], dtype=float32)>"
            ]
          },
          "metadata": {},
          "execution_count": 10
        }
      ]
    },
    {
      "cell_type": "code",
      "source": [
        "# Note: We cannot reshape the variable"
      ],
      "metadata": {
        "id": "trH5HxVsaUu1"
      },
      "execution_count": null,
      "outputs": []
    },
    {
      "cell_type": "code",
      "source": [
        "# Creating new variables from existing variables\n",
        "# It will duplicates the backing tensors. Two variables will not share the same memory.\n",
        "new_var = tf.Variable(variable)\n",
        "print(new_var)\n",
        "variable.assign([[1., 1.],[1.,3.]])\n",
        "print(new_var)"
      ],
      "metadata": {
        "colab": {
          "base_uri": "https://localhost:8080/"
        },
        "id": "2L3CprayZvdW",
        "outputId": "8044a649-1101-4775-e4b4-07fd5aaed9ec"
      },
      "execution_count": 11,
      "outputs": [
        {
          "output_type": "stream",
          "name": "stdout",
          "text": [
            "Executing op ReadVariableOp in device /job:localhost/replica:0/task:0/device:CPU:0\n",
            "Executing op VarHandleOp in device /job:localhost/replica:0/task:0/device:CPU:0\n",
            "Executing op AssignVariableOp in device /job:localhost/replica:0/task:0/device:CPU:0\n",
            "Executing op ReadVariableOp in device /job:localhost/replica:0/task:0/device:CPU:0\n",
            "Executing op Identity in device /job:localhost/replica:0/task:0/device:CPU:0\n",
            "<tf.Variable 'Variable:0' shape=(2, 2) dtype=float32, numpy=\n",
            "array([[9., 8.],\n",
            "       [6., 3.]], dtype=float32)>\n",
            "Executing op _EagerConst in device /job:localhost/replica:0/task:0/device:CPU:0\n",
            "Executing op AssignVariableOp in device /job:localhost/replica:0/task:0/device:CPU:0\n",
            "Executing op ReadVariableOp in device /job:localhost/replica:0/task:0/device:CPU:0\n",
            "Executing op Identity in device /job:localhost/replica:0/task:0/device:CPU:0\n",
            "<tf.Variable 'Variable:0' shape=(2, 2) dtype=float32, numpy=\n",
            "array([[9., 8.],\n",
            "       [6., 3.]], dtype=float32)>\n"
          ]
        }
      ]
    },
    {
      "cell_type": "code",
      "source": [
        "# Lifecycle of Variables:\n",
        "\"\"\"\n",
        "In Python-based TensorFlow, tf.Variable instance have the same lifecycle as other\n",
        "Python objects. When there are no references to a variable it is automatically deallocated.\n",
        "\"\"\"\n",
        "# Variable names are preserved when saving and loading models\n",
        "# We can turn off gradients for a variable by setting trainable to false at creation.\n",
        "const_var = tf.Variable(variable, trainable=False)"
      ],
      "metadata": {
        "id": "Ml27ismzbitS"
      },
      "execution_count": null,
      "outputs": []
    },
    {
      "cell_type": "code",
      "source": [
        "# For Computation including Variable and Tensors:\n",
        "\"\"\"\n",
        "For better performance, TensorFlow will attempt to place tensors and variables on\n",
        "the fastest device compatible with its dtype. This means most variables are placed\n",
        "on a GPU if one is available.\n",
        "\"\"\"\n",
        "\n",
        "# Also, It's possible to set the location of a variable or tensor on one device and\n",
        "# do the computation on another device. This will introduce delay, as data needs to\n",
        "# be copied between the devices.\n",
        "\n",
        "with tf.device('CPU:0'):\n",
        "  a = tf.Variable([[1.0, 2.0, 3.0], [4.0, 5.0, 6.0]])\n",
        "  b = tf.Variable([[1.0, 2.0, 3.0]])\n",
        "\n",
        "with tf.device('GPU:0'):\n",
        "  # Element-wise multiply\n",
        "  k = a * b\n",
        "\n",
        "print(k)"
      ],
      "metadata": {
        "colab": {
          "base_uri": "https://localhost:8080/"
        },
        "id": "T0_BNqgvcXrA",
        "outputId": "968445b8-16ee-4e0d-8bb7-dc714b69a430"
      },
      "execution_count": 12,
      "outputs": [
        {
          "output_type": "stream",
          "name": "stdout",
          "text": [
            "Executing op VarHandleOp in device /job:localhost/replica:0/task:0/device:CPU:0\n",
            "Executing op AssignVariableOp in device /job:localhost/replica:0/task:0/device:CPU:0\n",
            "Executing op VarHandleOp in device /job:localhost/replica:0/task:0/device:CPU:0\n",
            "Executing op AssignVariableOp in device /job:localhost/replica:0/task:0/device:CPU:0\n",
            "Executing op ReadVariableOp in device /job:localhost/replica:0/task:0/device:CPU:0\n",
            "Executing op ReadVariableOp in device /job:localhost/replica:0/task:0/device:CPU:0\n",
            "Executing op Mul in device /job:localhost/replica:0/task:0/device:CPU:0\n",
            "tf.Tensor(\n",
            "[[ 1.  4.  9.]\n",
            " [ 4. 10. 18.]], shape=(2, 3), dtype=float32)\n"
          ]
        }
      ]
    },
    {
      "cell_type": "code",
      "source": [
        "# We can also do operations between Variables and Tensors which will give tensors"
      ],
      "metadata": {
        "id": "RA0CfN43dCNl"
      },
      "execution_count": null,
      "outputs": []
    }
  ]
}