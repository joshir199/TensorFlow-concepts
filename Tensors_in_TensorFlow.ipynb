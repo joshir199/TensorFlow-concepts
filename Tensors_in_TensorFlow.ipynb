{
  "nbformat": 4,
  "nbformat_minor": 0,
  "metadata": {
    "colab": {
      "provenance": []
    },
    "kernelspec": {
      "name": "python3",
      "display_name": "Python 3"
    },
    "language_info": {
      "name": "python"
    }
  },
  "cells": [
    {
      "cell_type": "code",
      "source": [
        "# Understanding Tensor and its concepts"
      ],
      "metadata": {
        "id": "XiyxKBvgbir0"
      },
      "execution_count": 29,
      "outputs": []
    },
    {
      "cell_type": "code",
      "execution_count": 30,
      "metadata": {
        "id": "M2AVOmikYJVB"
      },
      "outputs": [],
      "source": [
        "import tensorflow as tf\n",
        "import numpy as np"
      ]
    },
    {
      "cell_type": "code",
      "source": [
        "tf.version.VERSION"
      ],
      "metadata": {
        "colab": {
          "base_uri": "https://localhost:8080/",
          "height": 35
        },
        "id": "w1FjouEtYTGa",
        "outputId": "461ba467-9859-4917-c2c6-98690ef09a4d"
      },
      "execution_count": 31,
      "outputs": [
        {
          "output_type": "execute_result",
          "data": {
            "text/plain": [
              "'2.12.0'"
            ],
            "application/vnd.google.colaboratory.intrinsic+json": {
              "type": "string"
            }
          },
          "metadata": {},
          "execution_count": 31
        }
      ]
    },
    {
      "cell_type": "code",
      "source": [
        "rank_0_tensor = tf.constant(4)  # constant\n",
        "rank_0_tensor"
      ],
      "metadata": {
        "colab": {
          "base_uri": "https://localhost:8080/"
        },
        "id": "W7oHg_dzYpnO",
        "outputId": "d57bd129-7aed-4385-9d7c-9ae75f8aa989"
      },
      "execution_count": 32,
      "outputs": [
        {
          "output_type": "execute_result",
          "data": {
            "text/plain": [
              "<tf.Tensor: shape=(), dtype=int32, numpy=4>"
            ]
          },
          "metadata": {},
          "execution_count": 32
        }
      ]
    },
    {
      "cell_type": "code",
      "source": [
        "r_1_tensor = tf.constant([2.0,3.0,4.0])  # vector\n",
        "r_1_tensor"
      ],
      "metadata": {
        "colab": {
          "base_uri": "https://localhost:8080/"
        },
        "id": "orGc8vG1ZRMA",
        "outputId": "61026b4e-42ef-47ab-b401-f5b38ec40401"
      },
      "execution_count": 33,
      "outputs": [
        {
          "output_type": "execute_result",
          "data": {
            "text/plain": [
              "<tf.Tensor: shape=(3,), dtype=float32, numpy=array([2., 3., 4.], dtype=float32)>"
            ]
          },
          "metadata": {},
          "execution_count": 33
        }
      ]
    },
    {
      "cell_type": "code",
      "source": [
        "r_2_tensor = tf.constant([[2.0,3.0,4.0],[3.0,4.0,5.0]])   # matrix (2x3)\n",
        "r_2_tensor"
      ],
      "metadata": {
        "colab": {
          "base_uri": "https://localhost:8080/"
        },
        "id": "2UG40q82ZaNW",
        "outputId": "83583985-650c-40d8-f955-d1cdecc9bea3"
      },
      "execution_count": 34,
      "outputs": [
        {
          "output_type": "execute_result",
          "data": {
            "text/plain": [
              "<tf.Tensor: shape=(2, 3), dtype=float32, numpy=\n",
              "array([[2., 3., 4.],\n",
              "       [3., 4., 5.]], dtype=float32)>"
            ]
          },
          "metadata": {},
          "execution_count": 34
        }
      ]
    },
    {
      "cell_type": "code",
      "source": [
        "r_3_tensor = tf.constant([[[2.0,3.0,4.0, 1.6],[3.0,4.0,5.0, 9.0]],\n",
        "                          [[3.0,3.0,1.0, 7.2],[6.0,4.0,1.0, 3.0]],\n",
        "                          [[5.0,9.0,8.0,6.2],[7.0,8.0,5.0, 4.0]]])\n",
        "r_3_tensor   # 3-dimensional matrix : (3x2x4)"
      ],
      "metadata": {
        "colab": {
          "base_uri": "https://localhost:8080/"
        },
        "id": "2rgliCXaZ7qQ",
        "outputId": "c27a07c8-2187-4564-f9de-eb05b53c42c8"
      },
      "execution_count": 35,
      "outputs": [
        {
          "output_type": "execute_result",
          "data": {
            "text/plain": [
              "<tf.Tensor: shape=(3, 2, 4), dtype=float32, numpy=\n",
              "array([[[2. , 3. , 4. , 1.6],\n",
              "        [3. , 4. , 5. , 9. ]],\n",
              "\n",
              "       [[3. , 3. , 1. , 7.2],\n",
              "        [6. , 4. , 1. , 3. ]],\n",
              "\n",
              "       [[5. , 9. , 8. , 6.2],\n",
              "        [7. , 8. , 5. , 4. ]]], dtype=float32)>"
            ]
          },
          "metadata": {},
          "execution_count": 35
        }
      ]
    },
    {
      "cell_type": "code",
      "source": [
        "r_3_tensor.numpy().shape, np.array(r_3_tensor)   # converting tensor to numpy array"
      ],
      "metadata": {
        "colab": {
          "base_uri": "https://localhost:8080/"
        },
        "id": "_0-I1aTQaoaO",
        "outputId": "3c0cb106-351f-4052-b5cb-803cb1815cf3"
      },
      "execution_count": 36,
      "outputs": [
        {
          "output_type": "execute_result",
          "data": {
            "text/plain": [
              "((3, 2, 4),\n",
              " array([[[2. , 3. , 4. , 1.6],\n",
              "         [3. , 4. , 5. , 9. ]],\n",
              " \n",
              "        [[3. , 3. , 1. , 7.2],\n",
              "         [6. , 4. , 1. , 3. ]],\n",
              " \n",
              "        [[5. , 9. , 8. , 6.2],\n",
              "         [7. , 8. , 5. , 4. ]]], dtype=float32))"
            ]
          },
          "metadata": {},
          "execution_count": 36
        }
      ]
    },
    {
      "cell_type": "code",
      "source": [
        "# Tensors can chave data types of int, float string and complex numbers\n",
        "# The base tf.Tensor class requires tensors to be \"rectangular\"---that is,\n",
        "# along each axis, every element is the same size."
      ],
      "metadata": {
        "id": "1JPAGmNIcIr_"
      },
      "execution_count": 37,
      "outputs": []
    },
    {
      "cell_type": "code",
      "source": [
        "# basic maths operation using tensors\n",
        "a = tf.constant([[2.0,3.0],[3.0,4.0]])\n",
        "b = tf.constant([[4.0,6.0],[1.0,5.0]])"
      ],
      "metadata": {
        "id": "pyS9-8Wmcdxs"
      },
      "execution_count": 38,
      "outputs": []
    },
    {
      "cell_type": "code",
      "source": [
        "tf.add(a, b, name=\"Sum\")  # sum  : a + b"
      ],
      "metadata": {
        "colab": {
          "base_uri": "https://localhost:8080/"
        },
        "id": "CwmQJa82c3Ow",
        "outputId": "d8ec5813-0c3c-4cb6-bd64-30395e63c12e"
      },
      "execution_count": 39,
      "outputs": [
        {
          "output_type": "execute_result",
          "data": {
            "text/plain": [
              "<tf.Tensor: shape=(2, 2), dtype=float32, numpy=\n",
              "array([[6., 9.],\n",
              "       [4., 9.]], dtype=float32)>"
            ]
          },
          "metadata": {},
          "execution_count": 39
        }
      ]
    },
    {
      "cell_type": "code",
      "source": [
        "tf.multiply(a,b,name=\"multiply\")  # element-wise multiplication  : a * b"
      ],
      "metadata": {
        "colab": {
          "base_uri": "https://localhost:8080/"
        },
        "id": "dG6hyem3dFqM",
        "outputId": "7f913ba6-700b-4e69-cc1f-60ffaa4a231e"
      },
      "execution_count": 40,
      "outputs": [
        {
          "output_type": "execute_result",
          "data": {
            "text/plain": [
              "<tf.Tensor: shape=(2, 2), dtype=float32, numpy=\n",
              "array([[ 8., 18.],\n",
              "       [ 3., 20.]], dtype=float32)>"
            ]
          },
          "metadata": {},
          "execution_count": 40
        }
      ]
    },
    {
      "cell_type": "code",
      "source": [
        "tf.matmul(a,b,name=\"matrix_multiplication\")   # matrix multiplication : a @ b"
      ],
      "metadata": {
        "colab": {
          "base_uri": "https://localhost:8080/"
        },
        "id": "7-UtoxVXdmO-",
        "outputId": "dbcf3bcb-671a-4d1f-b527-00433b07b046"
      },
      "execution_count": 41,
      "outputs": [
        {
          "output_type": "execute_result",
          "data": {
            "text/plain": [
              "<tf.Tensor: shape=(2, 2), dtype=float32, numpy=\n",
              "array([[11., 27.],\n",
              "       [16., 38.]], dtype=float32)>"
            ]
          },
          "metadata": {},
          "execution_count": 41
        }
      ]
    },
    {
      "cell_type": "code",
      "source": [
        "# Other tensor operations (Ops)\n",
        "c = b @ a\n",
        "\n",
        "print(c)\n",
        "# Find the total sum\n",
        "print(tf.reduce_sum(c))\n",
        "\n",
        "# Find the largest value\n",
        "print(tf.reduce_max(c))\n",
        "\n",
        "# Find the index of the largest value\n",
        "print(tf.math.argmin(c))\n",
        "\n",
        "# Compute the softmax\n",
        "print(tf.nn.softmax(c))"
      ],
      "metadata": {
        "colab": {
          "base_uri": "https://localhost:8080/"
        },
        "id": "w4CkHlVxd_kJ",
        "outputId": "3d3db3ce-2b48-4183-b6eb-df7c4022a323"
      },
      "execution_count": 42,
      "outputs": [
        {
          "output_type": "stream",
          "name": "stdout",
          "text": [
            "tf.Tensor(\n",
            "[[26. 36.]\n",
            " [17. 23.]], shape=(2, 2), dtype=float32)\n",
            "tf.Tensor(102.0, shape=(), dtype=float32)\n",
            "tf.Tensor(36.0, shape=(), dtype=float32)\n",
            "tf.Tensor([1 1], shape=(2,), dtype=int64)\n",
            "tf.Tensor(\n",
            "[[4.5397868e-05 9.9995458e-01]\n",
            " [2.4726235e-03 9.9752742e-01]], shape=(2, 2), dtype=float32)\n"
          ]
        }
      ]
    },
    {
      "cell_type": "code",
      "source": [
        "# Tensors have shapes. Some vocabulary:\n",
        "\n",
        "# 1. Shape: The length (number of elements) of each of the axes of a tensor.\n",
        "# 2. Rank: Number of tensor axes. A scalar has rank 0, a vector has rank 1, a matrix is rank 2.\n",
        "# 3. Axis or Dimension: A particular dimension of a tensor.\n",
        "# 4. Size: The total number of items in the tensor, the product of the shape vector's elements.\n",
        "\n",
        "rank_4_tensor = tf.zeros([3, 2, 4, 5], dtype=tf.int8)\n",
        "print(\"Type of every element:\", rank_4_tensor.dtype)\n",
        "print(\"Number of axes:\", rank_4_tensor.ndim)\n",
        "print(\"Shape of tensor:\", rank_4_tensor.shape)\n",
        "print(\"Elements along axis 0 of tensor:\", rank_4_tensor.shape[0])\n",
        "print(\"Elements along the last axis of tensor:\", rank_4_tensor.shape[-1])\n",
        "print(\"Total number of elements (3*2*4*5): \", tf.size(rank_4_tensor).numpy())"
      ],
      "metadata": {
        "colab": {
          "base_uri": "https://localhost:8080/"
        },
        "id": "MqU0yT9gkHxa",
        "outputId": "4f65b0d9-c76e-46a1-8652-07f6302d05eb"
      },
      "execution_count": 43,
      "outputs": [
        {
          "output_type": "stream",
          "name": "stdout",
          "text": [
            "Type of every element: <dtype: 'int8'>\n",
            "Number of axes: 4\n",
            "Shape of tensor: (3, 2, 4, 5)\n",
            "Elements along axis 0 of tensor: 3\n",
            "Elements along the last axis of tensor: 5\n",
            "Total number of elements (3*2*4*5):  120\n"
          ]
        }
      ]
    },
    {
      "cell_type": "code",
      "source": [
        "\"\"\"\n",
        "But note that the Tensor.ndim and Tensor.shape attributes don't return Tensor objects.\n",
        "If you need a Tensor use the tf.rank or tf.shape function. This difference is subtle,\n",
        "but it can be important when building graphs (later).\n",
        "\"\"\"\n",
        "tf.rank(rank_4_tensor), tf.shape(rank_4_tensor)"
      ],
      "metadata": {
        "colab": {
          "base_uri": "https://localhost:8080/"
        },
        "id": "szzPxQstk56o",
        "outputId": "c9ac0701-cdbd-4998-945f-edc8009493d1"
      },
      "execution_count": 44,
      "outputs": [
        {
          "output_type": "execute_result",
          "data": {
            "text/plain": [
              "(<tf.Tensor: shape=(), dtype=int32, numpy=4>,\n",
              " <tf.Tensor: shape=(4,), dtype=int32, numpy=array([3, 2, 4, 5], dtype=int32)>)"
            ]
          },
          "metadata": {},
          "execution_count": 44
        }
      ]
    },
    {
      "cell_type": "code",
      "source": [
        "# Often axes are ordered from global to local: The batch axis first, followed\n",
        "# by spatial dimensions, and features for each location last.\n",
        "# batch - 3 (axis = 0), height - 2(axis = 1), width - 4(axis = 2), features - 5(axis = 3 or -1)  => [3, 2, 4 5]"
      ],
      "metadata": {
        "id": "X6a4xH3LlYHp"
      },
      "execution_count": 45,
      "outputs": []
    },
    {
      "cell_type": "code",
      "source": [
        "# Single-axis indexing: TensorFlow follows standard Python indexing rules, similar\n",
        "# to indexing a list or a string in Python\n",
        "rank_1_tensor = tf.constant([0, 1, 1, 2, 3, 5, 8, 34, 39, 67])\n",
        "print(\"First:\", rank_1_tensor[0].numpy())\n",
        "print(\"Second:\", rank_1_tensor[1].numpy())\n",
        "print(\"Last:\", rank_1_tensor[-1].numpy())"
      ],
      "metadata": {
        "colab": {
          "base_uri": "https://localhost:8080/"
        },
        "id": "lvdL5qRCl2kT",
        "outputId": "cf2b68ab-f091-4408-fea1-56449d2e5bb2"
      },
      "execution_count": 46,
      "outputs": [
        {
          "output_type": "stream",
          "name": "stdout",
          "text": [
            "First: 0\n",
            "Second: 1\n",
            "Last: 67\n"
          ]
        }
      ]
    },
    {
      "cell_type": "code",
      "source": [
        "# Higher rank tensors are indexed by passing multiple indices.\n",
        "#The exact same rules as in the single-axis case apply to each axis independently.\n",
        "print(r_3_tensor)\n",
        "print(r_3_tensor[:, :, 1])"
      ],
      "metadata": {
        "colab": {
          "base_uri": "https://localhost:8080/"
        },
        "id": "rar5HuB_mexU",
        "outputId": "49fb45d9-e06a-4ba2-d418-fe217912c14b"
      },
      "execution_count": 47,
      "outputs": [
        {
          "output_type": "stream",
          "name": "stdout",
          "text": [
            "tf.Tensor(\n",
            "[[[2.  3.  4.  1.6]\n",
            "  [3.  4.  5.  9. ]]\n",
            "\n",
            " [[3.  3.  1.  7.2]\n",
            "  [6.  4.  1.  3. ]]\n",
            "\n",
            " [[5.  9.  8.  6.2]\n",
            "  [7.  8.  5.  4. ]]], shape=(3, 2, 4), dtype=float32)\n",
            "tf.Tensor(\n",
            "[[3. 4.]\n",
            " [3. 4.]\n",
            " [9. 8.]], shape=(3, 2), dtype=float32)\n"
          ]
        }
      ]
    },
    {
      "cell_type": "code",
      "source": [
        "# Manipulating Shapes\n",
        "\n",
        "## The tf.reshape operation is fast and cheap as the underlying data does not need to be duplicated.\n",
        "# TensorFlow, like many other programming languages and libraries, uses a memory\n",
        "# ordering convention known as \"row-major\" or \"C-style\" memory ordering. This convention\n",
        "# specifies how the elements of a multi-dimensional array are laid out in memory."
      ],
      "metadata": {
        "id": "Pik1ivALm2Vs"
      },
      "execution_count": 48,
      "outputs": []
    },
    {
      "cell_type": "code",
      "source": [
        "x = tf.constant([[5], [9], [3]])\n",
        "print(x.shape)"
      ],
      "metadata": {
        "colab": {
          "base_uri": "https://localhost:8080/"
        },
        "id": "e3aCBjGD4grL",
        "outputId": "a8f74d17-cbe4-466e-ba5e-ad0c198de03a"
      },
      "execution_count": 49,
      "outputs": [
        {
          "output_type": "stream",
          "name": "stdout",
          "text": [
            "(3, 1)\n"
          ]
        }
      ]
    },
    {
      "cell_type": "code",
      "source": [
        "tf.reshape(x, shape=[1,3])\n"
      ],
      "metadata": {
        "colab": {
          "base_uri": "https://localhost:8080/"
        },
        "id": "vzb2lOl-4lK1",
        "outputId": "7cb91715-c280-412b-ec80-c2e06de4aa8a"
      },
      "execution_count": 50,
      "outputs": [
        {
          "output_type": "execute_result",
          "data": {
            "text/plain": [
              "<tf.Tensor: shape=(1, 3), dtype=int32, numpy=array([[5, 9, 3]], dtype=int32)>"
            ]
          },
          "metadata": {},
          "execution_count": 50
        }
      ]
    },
    {
      "cell_type": "code",
      "source": [
        "# If you flatten a tensor you can see what order it is laid out in memory.\n",
        "# A `-1` passed in the `shape` argument says \"Whatever fits\".\n",
        "print(tf.reshape(r_3_tensor, [-1]))"
      ],
      "metadata": {
        "colab": {
          "base_uri": "https://localhost:8080/"
        },
        "id": "bLFNBIMV5EpX",
        "outputId": "2b3b93ef-78fd-4d24-a183-00cabbca72f0"
      },
      "execution_count": 51,
      "outputs": [
        {
          "output_type": "stream",
          "name": "stdout",
          "text": [
            "tf.Tensor(\n",
            "[2.  3.  4.  1.6 3.  4.  5.  9.  3.  3.  1.  7.2 6.  4.  1.  3.  5.  9.\n",
            " 8.  6.2 7.  8.  5.  4. ], shape=(24,), dtype=float32)\n"
          ]
        }
      ]
    },
    {
      "cell_type": "code",
      "source": [
        "# Typically the only reasonable use of tf.reshape is to combine or split adjacent\n",
        "# axes (or add/remove 1s).\n",
        "# e.g : 3x2x5  => 6x5, 3x10, 30\n",
        "print(tf.reshape(r_3_tensor, [3, -1]))  # 3 x 8"
      ],
      "metadata": {
        "colab": {
          "base_uri": "https://localhost:8080/"
        },
        "id": "EJIChpQp5bu2",
        "outputId": "5a16e83e-c3f2-42e1-9dc1-e462bd66a2e1"
      },
      "execution_count": 52,
      "outputs": [
        {
          "output_type": "stream",
          "name": "stdout",
          "text": [
            "tf.Tensor(\n",
            "[[2.  3.  4.  1.6 3.  4.  5.  9. ]\n",
            " [3.  3.  1.  7.2 6.  4.  1.  3. ]\n",
            " [5.  9.  8.  6.2 7.  8.  5.  4. ]], shape=(3, 8), dtype=float32)\n"
          ]
        }
      ]
    },
    {
      "cell_type": "code",
      "source": [
        "# Note: Reshaping will \"work\" for any new shape with the same total number of elements,\n",
        "# but it will not do anything useful if you do not respect the order of the axes.\n",
        "# For Swapping axes, you need tf.transpose rather than tf.reshape."
      ],
      "metadata": {
        "id": "dlrTSSOz6FqG"
      },
      "execution_count": 53,
      "outputs": []
    },
    {
      "cell_type": "code",
      "source": [
        "# Data types for Tensors in TensorFlow\n",
        "\"\"\"\n",
        "When creating a tf.Tensor from a Python object you may optionally specify the datatype.\n",
        "By Default, TensorFlow chooses a datatype that can represent your data. TensorFlow\n",
        "converts Python integers to tf.int32 and Python floating point numbers to tf.float32.\n",
        "\"\"\""
      ],
      "metadata": {
        "colab": {
          "base_uri": "https://localhost:8080/",
          "height": 52
        },
        "id": "pUjJVaNg6u_e",
        "outputId": "983df3da-04af-40db-f3e4-d7c968a16447"
      },
      "execution_count": 54,
      "outputs": [
        {
          "output_type": "execute_result",
          "data": {
            "text/plain": [
              "'\\nWhen creating a tf.Tensor from a Python object you may optionally specify the datatype.\\nBy Default, TensorFlow chooses a datatype that can represent your data. TensorFlow \\nconverts Python integers to tf.int32 and Python floating point numbers to tf.float32.\\n'"
            ],
            "application/vnd.google.colaboratory.intrinsic+json": {
              "type": "string"
            }
          },
          "metadata": {},
          "execution_count": 54
        }
      ]
    },
    {
      "cell_type": "code",
      "source": [
        "# Broadcasting in Tensors\n",
        "# Under certain conditions, smaller tensors are \"stretched\" automatically to fit\n",
        "# larger tensors when running combined operations on them.\n",
        "z = tf.constant([[2], [2], [2]])\n",
        "tf.multiply(x, 2), tf.multiply(x,z)    # both operation are same"
      ],
      "metadata": {
        "colab": {
          "base_uri": "https://localhost:8080/"
        },
        "id": "3AtuPtsS7ULM",
        "outputId": "8073e261-baa6-458d-8cab-11fee3799cea"
      },
      "execution_count": 55,
      "outputs": [
        {
          "output_type": "execute_result",
          "data": {
            "text/plain": [
              "(<tf.Tensor: shape=(3, 1), dtype=int32, numpy=\n",
              " array([[10],\n",
              "        [18],\n",
              "        [ 6]], dtype=int32)>,\n",
              " <tf.Tensor: shape=(3, 1), dtype=int32, numpy=\n",
              " array([[10],\n",
              "        [18],\n",
              "        [ 6]], dtype=int32)>)"
            ]
          },
          "metadata": {},
          "execution_count": 55
        }
      ]
    },
    {
      "cell_type": "code",
      "source": [
        "# Most of the time, broadcasting is both time and space efficient, as the broadcast\n",
        "# operation never materializes the expanded tensors in memory.\n",
        "print(tf.broadcast_to(tf.constant([1, 2, 3]), [3, 3])) # braoadcast tensor to given shape"
      ],
      "metadata": {
        "colab": {
          "base_uri": "https://localhost:8080/"
        },
        "id": "x3rlcryO8zDx",
        "outputId": "03637039-9c41-46ca-aced-4efa372cdcbf"
      },
      "execution_count": 56,
      "outputs": [
        {
          "output_type": "stream",
          "name": "stdout",
          "text": [
            "tf.Tensor(\n",
            "[[1 2 3]\n",
            " [1 2 3]\n",
            " [1 2 3]], shape=(3, 3), dtype=int32)\n"
          ]
        }
      ]
    },
    {
      "cell_type": "code",
      "source": [
        "# Converting normal arguments to tensors\n",
        "tf.convert_to_tensor([1,2,3])"
      ],
      "metadata": {
        "colab": {
          "base_uri": "https://localhost:8080/"
        },
        "id": "skusYf_z-Cz5",
        "outputId": "e7d5bc6d-9d54-4e29-da92-9c990ea5ea17"
      },
      "execution_count": 57,
      "outputs": [
        {
          "output_type": "execute_result",
          "data": {
            "text/plain": [
              "<tf.Tensor: shape=(3,), dtype=int32, numpy=array([1, 2, 3], dtype=int32)>"
            ]
          },
          "metadata": {},
          "execution_count": 57
        }
      ]
    },
    {
      "cell_type": "code",
      "source": [
        "# Ragged Tensors\n",
        "# A tensor with variable numbers of elements along some axis is called \"ragged\".\n",
        "\"\"\"\n",
        "Ragged tensors are the TensorFlow equivalent of nested variable-length lists.\n",
        "They make it easy to store and process data with non-uniform shapes\n",
        "\"\"\"\n",
        "\n",
        "# ragged_tensor = tf.constant([[1, 2, 3],[5, 4],[8]])\n",
        "# if we run above example, we will get following error:\n",
        "\"\"\" ValueError: Can't convert non-rectangular Python sequence to Tensor. \"\"\""
      ],
      "metadata": {
        "id": "sdnRT2iiQhz3"
      },
      "execution_count": 60,
      "outputs": []
    },
    {
      "cell_type": "code",
      "source": [
        "# We should use ragged tensor for such scenarios:\n",
        "ragged = tf.ragged.constant([[1, 2, 3],[5, 4],[8],[9, 7], []])\n",
        "print(ragged)\n",
        "print(ragged.shape)  # give \"None\" for variable length axis\n",
        "print(ragged.bounding_shape()) # give tight bounding shape=> max_dimen along each axis"
      ],
      "metadata": {
        "colab": {
          "base_uri": "https://localhost:8080/"
        },
        "id": "1i5rcd-7QjbZ",
        "outputId": "06c30ba5-8f95-4868-f3a4-3bf815ee7a45"
      },
      "execution_count": 96,
      "outputs": [
        {
          "output_type": "stream",
          "name": "stdout",
          "text": [
            "<tf.RaggedTensor [[1, 2, 3], [5, 4], [8], [9, 7], []]>\n",
            "(5, None)\n",
            "tf.Tensor([5 3], shape=(2,), dtype=int64)\n"
          ]
        }
      ]
    },
    {
      "cell_type": "code",
      "source": [
        "# Different ways of making ragged tensors:\n",
        "# 1. tf.RaggedTensor.from_value_rowids\n",
        "ragged_1 = tf.RaggedTensor.from_value_rowids(values=[1, 2, 3, 5, 4, 9, 6, 7 ], value_rowids=[0,0,0,1,1,3,4,4])\n",
        "ragged_1 # add row index for each elements to be ragged"
      ],
      "metadata": {
        "colab": {
          "base_uri": "https://localhost:8080/"
        },
        "id": "TMWbEAjFfWzL",
        "outputId": "2534b4c1-91a8-4658-acd5-dc647c678853"
      },
      "execution_count": 87,
      "outputs": [
        {
          "output_type": "execute_result",
          "data": {
            "text/plain": [
              "<tf.RaggedTensor [[1, 2, 3], [5, 4], [], [9], [6, 7]]>"
            ]
          },
          "metadata": {},
          "execution_count": 87
        }
      ]
    },
    {
      "cell_type": "code",
      "source": [
        "# 2. tf.RaggedTensor.from_row_lengths\n",
        "ragged_2 = tf.RaggedTensor.from_row_lengths(values=[1, 2, 3, 5, 4, 9, 6, 7 ], row_lengths=[3,2,0,3])\n",
        "ragged_2 # add row length where each elements to be ragged"
      ],
      "metadata": {
        "colab": {
          "base_uri": "https://localhost:8080/"
        },
        "id": "AOgo-sAjgZEn",
        "outputId": "035c0847-296a-434f-f4b1-ba9310f69be7"
      },
      "execution_count": 90,
      "outputs": [
        {
          "output_type": "execute_result",
          "data": {
            "text/plain": [
              "<tf.RaggedTensor [[1, 2, 3], [5, 4], [], [9, 6, 7]]>"
            ]
          },
          "metadata": {},
          "execution_count": 90
        }
      ]
    },
    {
      "cell_type": "code",
      "source": [
        "# 3. tf.RaggedTensor.from_row_splits\n",
        "ragged_3 = tf.RaggedTensor.from_row_splits(values=[1, 2, 3, 5, 4, 9, 6, 7 ], row_splits=[0,3,4,4,8])\n",
        "ragged_3 # If you know the index where each row starts and ends.=> [start, end)"
      ],
      "metadata": {
        "colab": {
          "base_uri": "https://localhost:8080/"
        },
        "id": "kB-mxuFWg5A3",
        "outputId": "22b252fe-22dc-4870-a4a9-60fb0f8c168b"
      },
      "execution_count": 92,
      "outputs": [
        {
          "output_type": "execute_result",
          "data": {
            "text/plain": [
              "<tf.RaggedTensor [[1, 2, 3], [5], [], [4, 9, 6, 7]]>"
            ]
          },
          "metadata": {},
          "execution_count": 92
        }
      ]
    },
    {
      "cell_type": "code",
      "source": [
        "# limitations of data types to be stored\n",
        "\"\"\"\n",
        "As with normal Tensors, the values in a RaggedTensor must all have the same type;\n",
        "and the values must all be at the same nesting depth (the rank of the tensor)\n",
        "\"\"\""
      ],
      "metadata": {
        "colab": {
          "base_uri": "https://localhost:8080/"
        },
        "id": "5eeCcMrJhxd4",
        "outputId": "f7fd1448-fcb0-43a9-c941-aac937ac528f"
      },
      "execution_count": 94,
      "outputs": [
        {
          "output_type": "stream",
          "name": "stdout",
          "text": [
            "tf.Tensor([2 3], shape=(2,), dtype=int64)\n"
          ]
        }
      ]
    },
    {
      "cell_type": "code",
      "source": [
        "# Operations on Ragged Tensors\n",
        "\"\"\"\n",
        "Ragged tensors are supported by more than a hundred TensorFlow operations, including\n",
        "1. math operations (such as tf.add and tf.reduce_mean)\n",
        "2. array operations (such as tf.concat and tf.tile)\n",
        "3. string manipulation ops (such as tf.strings.substr)\n",
        "4. control flow operations (such as tf.while_loop and tf.map_fn),\n",
        " and many others.\n",
        "\"\"\"\n",
        "\n",
        "word_ragged = tf.ragged.constant([[\"So\", \"long\"], [\"thanks\", \"for\", \"your\", \"food\", \"fish\"], []])\n",
        "\n",
        "print(ragged)\n",
        "print(word_ragged)"
      ],
      "metadata": {
        "colab": {
          "base_uri": "https://localhost:8080/"
        },
        "id": "XNJayF3OS0V2",
        "outputId": "891c3c06-9ab7-4e2d-9ddb-60dc33d2ecdc"
      },
      "execution_count": 69,
      "outputs": [
        {
          "output_type": "stream",
          "name": "stdout",
          "text": [
            "<tf.RaggedTensor [[1, 2, 3], [5, 4], [8], [9, 7], []]>\n",
            "<tf.RaggedTensor [[b'So', b'long'], [b'thanks', b'for', b'your', b'food', b'fish'], []]>\n"
          ]
        }
      ]
    },
    {
      "cell_type": "code",
      "source": [
        "# operations\n",
        "print(tf.reduce_max(ragged, axis=0))   # maximum along row direction for each column\n",
        "print(tf.concat([ragged, [[6],[6],[6],[6],[6]]], axis = 1))  # add same rank tensor along given axis\n",
        "print(tf.tile(ragged, [2, 2]))  # expand the tensor along axis by duplicating items\n",
        "print(tf.strings.substr(word_ragged, 1, 3))  # substring for starting index and end index\n",
        "print(tf.map_fn(tf.math.square, ragged)) # map each item in tensor according to map function"
      ],
      "metadata": {
        "colab": {
          "base_uri": "https://localhost:8080/"
        },
        "id": "J7mrDR8ET6g6",
        "outputId": "feb3eec7-aa25-4545-fe6d-e741daf97ea0"
      },
      "execution_count": 86,
      "outputs": [
        {
          "output_type": "stream",
          "name": "stdout",
          "text": [
            "tf.Tensor([9 7 3], shape=(3,), dtype=int32)\n",
            "<tf.RaggedTensor [[1, 2, 3, 6], [5, 4, 6], [8, 6], [9, 7, 6], [6]]>\n",
            "<tf.RaggedTensor [[1, 2, 3, 1, 2, 3], [5, 4, 5, 4], [8, 8], [9, 7, 9, 7], [],\n",
            " [1, 2, 3, 1, 2, 3], [5, 4, 5, 4], [8, 8], [9, 7, 9, 7], []]>\n",
            "<tf.RaggedTensor [[b'o', b'ong'], [b'han', b'or', b'our', b'ood', b'ish'], []]>\n",
            "<tf.RaggedTensor [[1, 4, 9], [25, 16], [64], [81, 49], []]>\n"
          ]
        }
      ]
    },
    {
      "cell_type": "code",
      "source": [
        "# We can use Python-style indexing to access specific slices of a ragged tensor."
      ],
      "metadata": {
        "id": "m9hcuLtoYnOo"
      },
      "execution_count": null,
      "outputs": []
    },
    {
      "cell_type": "code",
      "source": [
        "times_two_plus_one = lambda x: x * 2 + 1\n",
        "print(tf.map_fn(times_two_plus_one, ragged))"
      ],
      "metadata": {
        "colab": {
          "base_uri": "https://localhost:8080/"
        },
        "id": "NqVUgjr8ZMzT",
        "outputId": "4d49d22f-5252-44c0-fdfb-bfacb7c6232f"
      },
      "execution_count": 83,
      "outputs": [
        {
          "output_type": "stream",
          "name": "stdout",
          "text": [
            "<tf.RaggedTensor [[3, 5, 7], [11, 9], [17], [19, 15], []]>\n"
          ]
        }
      ]
    },
    {
      "cell_type": "code",
      "source": [
        "# ragged tensors can be used in Keras model building layers\n",
        "# It can also be converted to other tensors like Sparse tensor etc."
      ],
      "metadata": {
        "id": "7kTa1uhfd66j"
      },
      "execution_count": null,
      "outputs": []
    },
    {
      "cell_type": "code",
      "source": [
        "# Sparse Tensor\n",
        "\"\"\"\n",
        "When working with tensors that contain a lot of zero values, it is important to\n",
        "store them in a space- and time-efficient manner. Sparse tensors enable efficient\n",
        "storage and processing of tensors that contain a lot of zero values.\n",
        "\"\"\"\n",
        "\n",
        "# creating sparse tensor:\n",
        "# Construct sparse tensors by directly specifying their values, indices, and dense_shape.\n",
        "\"\"\"\n",
        "1. values: A 1D tensor with shape [N] containing all nonzero values.\n",
        "2. indices: A 2D tensor with shape [N, rank], containing the indices of the nonzero values.\n",
        "3. dense_shape: A 1D tensor with shape [rank], specifying the shape of the tensor.\n",
        "\"\"\""
      ],
      "metadata": {
        "id": "TsnmpVijCNgq"
      },
      "execution_count": null,
      "outputs": []
    },
    {
      "cell_type": "code",
      "source": [
        "spt1 = tf.sparse.SparseTensor(indices=[[0, 3], [2, 4]],  # location of non-zero values\n",
        "                      values=[10, 20],                   # non-zero values\n",
        "                      dense_shape=[3, 10])               # dimension of tensor\n",
        "spt1"
      ],
      "metadata": {
        "colab": {
          "base_uri": "https://localhost:8080/"
        },
        "id": "Gki7V7tICxO3",
        "outputId": "8ad19785-6d3f-474d-d5d8-5cb97d65d00b"
      },
      "execution_count": 97,
      "outputs": [
        {
          "output_type": "execute_result",
          "data": {
            "text/plain": [
              "SparseTensor(indices=tf.Tensor(\n",
              "[[0 3]\n",
              " [2 4]], shape=(2, 2), dtype=int64), values=tf.Tensor([10 20], shape=(2,), dtype=int32), dense_shape=tf.Tensor([ 3 10], shape=(2,), dtype=int64))"
            ]
          },
          "metadata": {},
          "execution_count": 97
        }
      ]
    },
    {
      "cell_type": "code",
      "source": [
        "# creating sparse from dense:\n",
        "spt2 = tf.sparse.from_dense([[1, 0, 0, 8], [0, 0, 0, 0], [0, 0, 3, 0]])\n",
        "print(spt2)"
      ],
      "metadata": {
        "colab": {
          "base_uri": "https://localhost:8080/"
        },
        "id": "aegtdfkUDVKc",
        "outputId": "94154fd9-03c0-4f22-be14-ebe70c914c6a"
      },
      "execution_count": 98,
      "outputs": [
        {
          "output_type": "stream",
          "name": "stdout",
          "text": [
            "SparseTensor(indices=tf.Tensor(\n",
            "[[0 0]\n",
            " [0 3]\n",
            " [2 2]], shape=(3, 2), dtype=int64), values=tf.Tensor([1 8 3], shape=(3,), dtype=int32), dense_shape=tf.Tensor([3 4], shape=(2,), dtype=int64))\n"
          ]
        }
      ]
    },
    {
      "cell_type": "code",
      "source": [
        "# sparse to dense\n",
        "st3 = tf.sparse.to_dense(spt1)\n",
        "print(st3)"
      ],
      "metadata": {
        "colab": {
          "base_uri": "https://localhost:8080/"
        },
        "id": "Te-Ns9SbDqEh",
        "outputId": "65d1172c-246d-4ce2-fb17-7044f665caf0"
      },
      "execution_count": 99,
      "outputs": [
        {
          "output_type": "stream",
          "name": "stdout",
          "text": [
            "tf.Tensor(\n",
            "[[ 0  0  0 10  0  0  0  0  0  0]\n",
            " [ 0  0  0  0  0  0  0  0  0  0]\n",
            " [ 0  0  0  0 20  0  0  0  0  0]], shape=(3, 10), dtype=int32)\n"
          ]
        }
      ]
    },
    {
      "cell_type": "code",
      "source": [
        "# Ragged vs Sparse tensor:\n",
        "\"\"\"\n",
        "A ragged tensor should not be thought of as a type of sparse tensor. In particular,\n",
        "sparse tensors are efficient encodings for tf.Tensor that model the same data in a\n",
        "compact format; but ragged tensor is an extension to tf.Tensor that models an\n",
        "expanded class of data.\n",
        "\"\"\"\n",
        "ragged_x = tf.ragged.constant([[\"John\"], [\"a\", \"big\", \"dog\"], [\"my\", \"cat\"]])\n",
        "ragged_y = tf.ragged.constant([[\"fell\", \"asleep\"], [\"barked\"], [\"is\", \"fuzzy\"]])\n",
        "print(tf.concat([ragged_x, ragged_y], axis=1)) # rows of both ragged tensors has merged"
      ],
      "metadata": {
        "colab": {
          "base_uri": "https://localhost:8080/"
        },
        "id": "63RyqUxIEJ_g",
        "outputId": "30369481-06d2-4500-8c5a-3a2d7a8b5a66"
      },
      "execution_count": 100,
      "outputs": [
        {
          "output_type": "stream",
          "name": "stdout",
          "text": [
            "<tf.RaggedTensor [[b'John', b'fell', b'asleep'], [b'a', b'big', b'dog', b'barked'],\n",
            " [b'my', b'cat', b'is', b'fuzzy']]>\n"
          ]
        }
      ]
    },
    {
      "cell_type": "code",
      "source": [
        "sparse_x = ragged_x.to_sparse()\n",
        "sparse_y = ragged_y.to_sparse()\n",
        "sparse_result = tf.sparse.concat(sp_inputs=[sparse_x, sparse_y], axis=1)\n",
        "print(tf.sparse.to_dense(sparse_result, ''))  # row of both sparse has just added together"
      ],
      "metadata": {
        "colab": {
          "base_uri": "https://localhost:8080/"
        },
        "id": "HmdMTPtlEVxG",
        "outputId": "d15c9254-5e98-4b13-da84-0028e2da8055"
      },
      "execution_count": 101,
      "outputs": [
        {
          "output_type": "stream",
          "name": "stdout",
          "text": [
            "tf.Tensor(\n",
            "[[b'John' b'' b'' b'fell' b'asleep']\n",
            " [b'a' b'big' b'dog' b'barked' b'']\n",
            " [b'my' b'cat' b'' b'is' b'fuzzy']], shape=(3, 5), dtype=string)\n"
          ]
        }
      ]
    }
  ]
}